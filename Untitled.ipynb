{
 "cells": [
  {
   "cell_type": "markdown",
   "id": "6d739a34-1e4d-4d2f-b18c-e7c99aa6598c",
   "metadata": {},
   "source": [
    "## Example with 3d shape "
   ]
  },
  {
   "cell_type": "code",
   "execution_count": 1,
   "id": "8df6b94a-b965-41b8-894b-8140f9c3e1f1",
   "metadata": {},
   "outputs": [],
   "source": [
    "from tqdm import tqdm\n",
    "import time\n",
    "import argparse\n",
    "import os\n",
    "import sys\n",
    "from abc import abstractmethod\n",
    "from torch.nn import functional as F"
   ]
  },
  {
   "cell_type": "code",
   "execution_count": 2,
   "id": "693e15b8-c15e-433f-9301-d58d63828a24",
   "metadata": {},
   "outputs": [],
   "source": [
    "import pandas as pd\n",
    "import numpy as np\n",
    "import einops"
   ]
  },
  {
   "cell_type": "code",
   "execution_count": 3,
   "id": "9b9ddb1c-8843-40c9-ab19-a80f061beeb4",
   "metadata": {},
   "outputs": [],
   "source": [
    "import torch\n",
    "from torch import nn\n",
    "import torch.nn.init as init\n",
    "from torchvision import datasets\n",
    "from torchvision import transforms as T\n",
    "from torchvision.datasets import ImageFolder\n",
    "from torch.utils.data import Dataset, DataLoader"
   ]
  },
  {
   "cell_type": "code",
   "execution_count": 4,
   "id": "55664c9f-f5c1-4df9-8c1a-ee4cd34f9181",
   "metadata": {},
   "outputs": [],
   "source": [
    "sys.path.insert(0,\"/nfshomes/xliu1231/Causal_Disentangle/3dshape_dataset\")"
   ]
  },
  {
   "cell_type": "code",
   "execution_count": 5,
   "id": "bba23f4c-0017-4e7e-84a5-952fbd84b591",
   "metadata": {},
   "outputs": [],
   "source": [
    "from dataset import *"
   ]
  },
  {
   "cell_type": "code",
   "execution_count": null,
   "id": "aaa13ee2-c04c-44c5-a647-2541eefe17ea",
   "metadata": {},
   "outputs": [],
   "source": []
  },
  {
   "cell_type": "markdown",
   "id": "fa11ba55-7876-4b2c-94b1-3064ebec9152",
   "metadata": {},
   "source": [
    "### Prepare dataset"
   ]
  },
  {
   "cell_type": "code",
   "execution_count": 6,
   "id": "cfd666cf-df8a-4e37-a609-a1264b67b20c",
   "metadata": {},
   "outputs": [],
   "source": [
    "# Set distributions of factors' values. If not specified, we will sample factors randomly\n",
    "dist={'shape': [1, 2, 1, 4],\n",
    "      'object_hue': [1, 1, 1, 2, 2, 3, 1, 3, 3, 1]\n",
    "}"
   ]
  },
  {
   "cell_type": "code",
   "execution_count": null,
   "id": "0c15354e-3d88-45a6-b11d-196f132c9c0c",
   "metadata": {},
   "outputs": [],
   "source": [
    "# sample a dataset and save\n",
    "sample_3dshape_dataset(dist, data_size=5000, \n",
    "                       data_path='/nfshomes/xliu1231/Causal_Disentangle/data',\n",
    "                       label_path='/nfshomes/xliu1231/Causal_Disentangle/data/sample.csv')"
   ]
  },
  {
   "cell_type": "code",
   "execution_count": null,
   "id": "9a3a41db-eb33-426b-85e4-8823b73a99e7",
   "metadata": {},
   "outputs": [],
   "source": [
    "transform = T.ToTensor()"
   ]
  },
  {
   "cell_type": "code",
   "execution_count": null,
   "id": "9825dcc2-fee9-4d7b-b0ac-073d717d4887",
   "metadata": {},
   "outputs": [],
   "source": [
    "# _FACTORS_IN_ORDER = ['floor_hue', 'wall_hue', 'object_hue', 'scale', 'shape', 'orientation']\n",
    "# concept_interest is the indices of the interested factors that will be labels\n",
    "\n",
    "train_dataset = ShapesDataset(data_path='/nfshomes/xliu1231/Causal_Disentangle/data', \n",
    "                              attr_path='/nfshomes/xliu1231/Causal_Disentangle/data/sample.csv',\n",
    "                              attr=attr=[0 ,1 ,2 ,3],\n",
    "                              transform=transform\n",
    "                             )"
   ]
  },
  {
   "cell_type": "code",
   "execution_count": null,
   "id": "36f3b2a6-84e1-4274-9489-526d8330b65f",
   "metadata": {},
   "outputs": [],
   "source": [
    "train_loader = torch.utils.data.DataLoader(train_dataset, batch_size=64, shuffle=True, pin_memory=True, num_workers=1)"
   ]
  },
  {
   "cell_type": "code",
   "execution_count": null,
   "id": "159c8438-b3da-4950-9216-3491ed971f4a",
   "metadata": {},
   "outputs": [],
   "source": [
    "class data_prefetcher():\n",
    "    def __init__(self, loader):\n",
    "        self.loader = iter(loader)\n",
    "        self.stream = torch.cuda.Stream()\n",
    "        self.preload()\n",
    "\n",
    "    def preload(self):\n",
    "        try:\n",
    "            self.next_input, self.next_target = next(self.loader)\n",
    "        except StopIteration:\n",
    "            self.next_input = None\n",
    "            self.next_target = None\n",
    "            return\n",
    "\n",
    "        with torch.cuda.stream(self.stream):\n",
    "            self.next_input = self.next_input.cuda(non_blocking=True)\n",
    "            self.next_target = self.next_target.cuda(non_blocking=True)\n",
    "\n",
    "    def next(self):\n",
    "        torch.cuda.current_stream().wait_stream(self.stream)\n",
    "        input = self.next_input\n",
    "        target = self.next_target\n",
    "        if input is not None:\n",
    "            input.record_stream(torch.cuda.current_stream())\n",
    "        if target is not None:\n",
    "            target.record_stream(torch.cuda.current_stream())\n",
    "        self.preload()\n",
    "        return input, target"
   ]
  },
  {
   "cell_type": "code",
   "execution_count": null,
   "id": "7e5376b7-6cfe-47eb-a228-dac0f67509dc",
   "metadata": {},
   "outputs": [],
   "source": []
  },
  {
   "cell_type": "markdown",
   "id": "d75d5314-f010-4e77-9832-f1a21aae1d7f",
   "metadata": {},
   "source": [
    "### Now learn a causal map from labels/data"
   ]
  },
  {
   "cell_type": "code",
   "execution_count": null,
   "id": "1854d31f-9422-46ae-bfa8-4ded200304e1",
   "metadata": {},
   "outputs": [],
   "source": [
    "class CausalDAG(nn.Module):\n",
    "    \"\"\"\n",
    "    creates a causal diagram A\n",
    "    \n",
    "    \n",
    "    \"\"\"\n",
    "    def __init__(self, num_concepts, dim_per_concept, inference = False, bias=False, g_dim=32):\n",
    "        \n",
    "        super(CausalDAG, self).__init__()\n",
    "        self.num_concepts = num_concepts\n",
    "        self.dim_per_concept = dim_per_concept\n",
    "        \n",
    "        self.A = nn.Parameter(torch.zeros(num_concepts, num_concepts))\n",
    "        self.I = nn.Parameter(torch.eye(num_concepts))\n",
    "        self.I.requires_grad=False\n",
    "        if bias:\n",
    "            self.bias = Parameter(torch.Tensor(num_concepts))\n",
    "        else:\n",
    "            self.register_parameter('bias', None)\n",
    "            \n",
    "        nets_z = []\n",
    "        nets_label = []\n",
    "        \n",
    "        \n",
    "        for _ in range(num_concepts):\n",
    "            nets_z.append(\n",
    "                nn.Sequential(\n",
    "                    nn.Linear(dim_per_concept, g_dim),\n",
    "                    nn.ELU(),\n",
    "                    nn.Linear(g_dim, dim_per_concept)\n",
    "                )\n",
    "            )\n",
    "                \n",
    "            nets_label.append(\n",
    "                nn.Sequential(\n",
    "                    nn.Linear(1, g_dim),\n",
    "                    nn.ELU(),\n",
    "                    nn.Linear(g_dim, 1)\n",
    "                )\n",
    "            )\n",
    "        self.nets_z = nn.ModuleList(nets_z)\n",
    "        self.nets_label = nn.ModuleList(nets_label)\n",
    "        \n",
    "    def calculate_z(self, epsilon):\n",
    "        \"\"\"\n",
    "        convert epsilon to z using the SCM assumption and causal diagram A\n",
    "        \n",
    "        \"\"\"\n",
    "        \n",
    "        C = torch.inverse(self.I - self.A.t())\n",
    "            \n",
    "        if epsilon.dim() > 2: # one concept is represented by multiple dimensions     \n",
    "            z = F.linear(epsilon.permute(0,2,1), C, self.bias)\n",
    "            z = z.permute(0,2,1).contiguous() \n",
    "            \n",
    "        else:\n",
    "            z = F.linear(epsilon, C, self.bias)\n",
    "        return z\n",
    "    \n",
    "    def calculate_epsilon(self, z):\n",
    "        \"\"\"\n",
    "        convert epsilon to z using the SCM assumption and causal diagram A\n",
    "         \n",
    "        \"\"\"\n",
    "        \n",
    "        C_inv = self.I - self.A.t()\n",
    "        \n",
    "        if z.dim() > 2: # one concept is represented by multiple dimensions     \n",
    "            epsilon = F.linear(z.permute(0,2,1), C_inv, self.bias)\n",
    "            epsilon = epsilon.permute(0,2,1).contiguous() \n",
    "            \n",
    "        else:\n",
    "            epsilon = F.linear(z, C, self.bias)\n",
    "        return epsilon\n",
    "    \n",
    "    def mask(self, x):\n",
    "        if x.dim() == 2:\n",
    "            x = x.unsqueeze(dim=-1)\n",
    "        res = torch.matmul(self.A.t(), x)\n",
    "        return res\n",
    "    \n",
    "    def g_z(self, x):\n",
    "        \"\"\"\n",
    "        apply nonlinearity for more stable approximation\n",
    "        \n",
    "        \"\"\"\n",
    "        x_flatterned = x.view(-1, self.num_concepts*self.dim_per_concept)\n",
    "        concepts = torch.split(x_flatterned, self.dim_per_concept, dim = 1)\n",
    "        res = []\n",
    "        for i, concept in enumerate(concepts):\n",
    "            res.append(self.nets_z[i](concept))\n",
    "        x = torch.concat(res, dim=1).reshape([-1, self.num_concepts, self.dim_per_concept])\n",
    "        return x\n",
    "    \n",
    "    def g_label(self, x):\n",
    "        \"\"\"\n",
    "        apply nonlinearity for more stable approximation\n",
    "        \n",
    "        \"\"\"\n",
    "        x_flatterned = x.view(-1, self.num_concepts)\n",
    "        concepts = torch.split(x_flatterned, 1, dim = 1)\n",
    "        res = []\n",
    "        for i, concept in enumerate(concepts):\n",
    "            res.append(self.nets_label[i](concept))\n",
    "        x = torch.concat(res, dim=1).reshape([-1, self.num_concepts])\n",
    "        return x\n",
    "            \n",
    "    def forward(self, x, islabel=False):\n",
    "        if islabel:\n",
    "            return self.g_label(self.mask(x))\n",
    "        return self.g_z(self.mask(x))\n"
   ]
  },
  {
   "cell_type": "code",
   "execution_count": null,
   "id": "101cf75d-a71f-49d3-83ee-ab9492cdf345",
   "metadata": {},
   "outputs": [],
   "source": [
    "def _h_A(A, m):\n",
    "    A_square = A * A\n",
    "    x = torch.eye(m).cuda() + torch.div(A_square, m)\n",
    "    expm_A = torch.matrix_power(x, m)\n",
    "    h_A = torch.trace(expm_A) - m\n",
    "    return h_A"
   ]
  },
  {
   "cell_type": "code",
   "execution_count": null,
   "id": "375051c9-88c6-42c0-96f9-609760b40046",
   "metadata": {},
   "outputs": [],
   "source": [
    "graph = CausalDAG(4, 1, g_dim=1).cuda()\n",
    "graph.train()"
   ]
  },
  {
   "cell_type": "code",
   "execution_count": null,
   "id": "430c4288-2668-4ce3-a36f-3910bea4c714",
   "metadata": {},
   "outputs": [],
   "source": [
    "optimizer = torch.optim.SGD(graph.parameters(), lr=0.01*float(128)/256., momentum=0.9, weight_decay=5e-4)"
   ]
  },
  {
   "cell_type": "code",
   "execution_count": null,
   "id": "7f7dc06a-46c3-479c-aec0-43e680c3e6bf",
   "metadata": {},
   "outputs": [],
   "source": [
    "prefetcher = data_prefetcher(train_loader)"
   ]
  },
  {
   "cell_type": "code",
   "execution_count": null,
   "id": "6ade9160-312b-401a-97c3-80595e6c1e66",
   "metadata": {},
   "outputs": [],
   "source": []
  },
  {
   "cell_type": "code",
   "execution_count": null,
   "id": "07a4a65c-ff07-4fb4-b322-3a8e62945342",
   "metadata": {},
   "outputs": [],
   "source": [
    "input, target = prefetcher.next()\n",
    "h_a = _h_A(graph.A, 4)"
   ]
  },
  {
   "cell_type": "code",
   "execution_count": null,
   "id": "8ffbf700-d5b3-493d-a94d-462e73768a88",
   "metadata": {},
   "outputs": [],
   "source": [
    "c = 1\n",
    "alpha = 1\n",
    "h_a_prev = 0"
   ]
  },
  {
   "cell_type": "code",
   "execution_count": null,
   "id": "05fae1d3-7d6e-4931-895c-09562176bbaf",
   "metadata": {},
   "outputs": [],
   "source": [
    "while input is not None:\n",
    "    \n",
    "    target = target.cuda()\n",
    "    output = graph(target, islabel=True)\n",
    "    \n",
    "    \n",
    "    A = graph.A\n",
    "    m = graph.A.size()[0]\n",
    "    A_square = A * A\n",
    "    x = torch.eye(m).cuda() + torch.div(A_square, m)\n",
    "    expm_A = torch.matrix_power(x, m)\n",
    "    h_a = torch.trace(expm_A) - m\n",
    "    \n",
    "\n",
    "    \n",
    "    loss = F.mse_loss(target, output) + c * h_a\n",
    "    \n",
    "    #loss += alpha * h_a + 0.5 * c * h_a * h_a\n",
    "    \n",
    "    \n",
    "    optimizer.zero_grad()\n",
    "    loss.backward()\n",
    "    optimizer.step()\n",
    "    \n",
    "    \n",
    "    \n",
    "    print(\"loss:\", loss)\n",
    "    \n",
    "    input, target = prefetcher.next()\n",
    "    \n",
    "    \n",
    "    alpha = alpha + c * h_a\n",
    "    \n",
    "    if h_a > 0.25 * h_a_prev:\n",
    "        c = 10 * c\n",
    "    \n",
    "    h_a_prev = h_a\n",
    "    \n",
    "    \n",
    "    \n",
    "    \n",
    "    \n",
    "    \n",
    "    "
   ]
  },
  {
   "cell_type": "code",
   "execution_count": null,
   "id": "772147b8-bd2e-425d-a29c-10aa5511bcf9",
   "metadata": {},
   "outputs": [],
   "source": []
  }
 ],
 "metadata": {
  "kernelspec": {
   "display_name": "Python [conda env:root] *",
   "language": "python",
   "name": "conda-root-py"
  },
  "language_info": {
   "codemirror_mode": {
    "name": "ipython",
    "version": 3
   },
   "file_extension": ".py",
   "mimetype": "text/x-python",
   "name": "python",
   "nbconvert_exporter": "python",
   "pygments_lexer": "ipython3",
   "version": "3.7.6"
  }
 },
 "nbformat": 4,
 "nbformat_minor": 5
}
