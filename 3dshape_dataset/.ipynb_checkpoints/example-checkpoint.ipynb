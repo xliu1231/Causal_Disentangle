{
 "cells": [
  {
   "cell_type": "code",
   "execution_count": null,
   "metadata": {
    "pycharm": {
     "name": "#%%\n"
    }
   },
   "outputs": [],
   "source": [
    "from matplotlib import pyplot as plt\n",
    "import numpy as np\n",
    "import h5py\n",
    "import random\n",
    "import torch"
   ]
  },
  {
   "cell_type": "markdown",
   "metadata": {},
   "source": [
    "# Load dataset"
   ]
  },
  {
   "cell_type": "code",
   "execution_count": null,
   "metadata": {},
   "outputs": [],
   "source": [
    "# load dataset\n",
    "dataset = h5py.File('/cmlscratch/bangan/project/dataset/3dshape/3dshapes.h5', 'r')\n",
    "print(dataset.keys())\n",
    "images = dataset['images']  # array shape [480000,64,64,3], uint8 in range(256)\n",
    "labels = dataset['labels']  # array shape [480000,6], float64\n",
    "image_shape = images.shape[1:]  # [64,64,3]\n",
    "label_shape = labels.shape[1:]  # [6]\n",
    "n_samples = labels.shape[0]  # 10*10*10*8*4*15=480000\n",
    "\n",
    "_FACTORS_IN_ORDER = ['floor_hue', 'wall_hue', 'object_hue', 'scale', 'shape',\n",
    "                     'orientation']\n",
    "_NUM_VALUES_PER_FACTOR = {'floor_hue': 10, 'wall_hue': 10, 'object_hue': 10, \n",
    "                          'scale': 8, 'shape': 4, 'orientation': 15}"
   ]
  },
  {
   "cell_type": "code",
   "execution_count": null,
   "metadata": {},
   "outputs": [],
   "source": [
    "images[0]"
   ]
  },
  {
   "cell_type": "code",
   "execution_count": null,
   "metadata": {},
   "outputs": [],
   "source": [
    "labels[3]"
   ]
  },
  {
   "cell_type": "markdown",
   "metadata": {},
   "source": [
    "# Methods for sampling unconditionally/conditionally on a given factor"
   ]
  },
  {
   "cell_type": "code",
   "execution_count": null,
   "metadata": {},
   "outputs": [],
   "source": [
    "# methods for sampling unconditionally/conditionally on a given factor\n",
    "def get_index(factors):\n",
    "  \"\"\" Converts factors to indices in range(num_data)\n",
    "  Args:\n",
    "    factors: np array shape [6,batch_size].\n",
    "             factors[i]=factors[i,:] takes integer values in \n",
    "             range(_NUM_VALUES_PER_FACTOR[_FACTORS_IN_ORDER[i]]).\n",
    "\n",
    "  Returns:\n",
    "    indices: np array shape [batch_size].\n",
    "  \"\"\"\n",
    "  indices = 0\n",
    "  base = 1\n",
    "  for factor, name in reversed(list(enumerate(_FACTORS_IN_ORDER))):\n",
    "    indices += factors[factor] * base\n",
    "    base *= _NUM_VALUES_PER_FACTOR[name]\n",
    "  return indices\n",
    "\n",
    "\n",
    "def sample_random_batch(batch_size):\n",
    "  \"\"\" Samples a random batch of images.\n",
    "  Args:\n",
    "    batch_size: number of images to sample.\n",
    "\n",
    "  Returns:\n",
    "    batch: images shape [batch_size,64,64,3].\n",
    "  \"\"\"\n",
    "  indices = np.random.choice(n_samples, batch_size)\n",
    "  ims = []\n",
    "  for ind in indices:\n",
    "    im = images[ind]\n",
    "    im = np.asarray(im)\n",
    "    ims.append(im)\n",
    "  ims = np.stack(ims, axis=0)\n",
    "  ims = ims / 255. # normalise values to range [0,1]\n",
    "  ims = ims.astype(np.float32)\n",
    "  return ims.reshape([batch_size, 64, 64, 3])\n",
    "\n",
    "\n",
    "def sample_batch(batch_size, fixed_factor, fixed_factor_value):\n",
    "  \"\"\" Samples a batch of images with fixed_factor=fixed_factor_value, but with\n",
    "      the other factors varying randomly.\n",
    "  Args:\n",
    "    batch_size: number of images to sample.\n",
    "    fixed_factor: index of factor that is fixed in range(6).\n",
    "    fixed_factor_value: integer value of factor that is fixed \n",
    "      in range(_NUM_VALUES_PER_FACTOR[_FACTORS_IN_ORDER[fixed_factor]]).\n",
    "\n",
    "  Returns:\n",
    "    batch: images shape [batch_size,64,64,3]\n",
    "  \"\"\"\n",
    "  factors = np.zeros([len(_FACTORS_IN_ORDER), batch_size],\n",
    "                     dtype=np.int32)\n",
    "  for factor, name in enumerate(_FACTORS_IN_ORDER):\n",
    "    num_choices = _NUM_VALUES_PER_FACTOR[name]\n",
    "    factors[factor] = np.random.choice(num_choices, batch_size)\n",
    "  factors[fixed_factor] = fixed_factor_value\n",
    "  indices = get_index(factors)\n",
    "  ims = []\n",
    "  for ind in indices:\n",
    "    im = images[ind]\n",
    "    im = np.asarray(im)\n",
    "    ims.append(im)\n",
    "  ims = np.stack(ims, axis=0)\n",
    "  ims = ims / 255. # normalise values to range [0,1]\n",
    "  ims = ims.astype(np.float32)\n",
    "  return ims.reshape([batch_size, 64, 64, 3])"
   ]
  },
  {
   "cell_type": "markdown",
   "metadata": {},
   "source": [
    "# Helper function to show images"
   ]
  },
  {
   "cell_type": "code",
   "execution_count": null,
   "metadata": {},
   "outputs": [],
   "source": [
    "def show_images_grid(imgs_, num_images=25):\n",
    "  ncols = int(np.ceil(num_images**0.5))\n",
    "  nrows = int(np.ceil(num_images / ncols))\n",
    "  _, axes = plt.subplots(ncols, nrows, figsize=(nrows * 3, ncols * 3))\n",
    "  axes = axes.flatten()\n",
    "\n",
    "  for ax_i, ax in enumerate(axes):\n",
    "    if ax_i < num_images:\n",
    "      ax.imshow(imgs_[ax_i], cmap='Greys_r', interpolation='nearest')\n",
    "      ax.set_xticks([])\n",
    "      ax.set_yticks([])\n",
    "    else:\n",
    "      ax.axis('off')"
   ]
  },
  {
   "cell_type": "markdown",
   "metadata": {},
   "source": [
    "# Examples"
   ]
  },
  {
   "cell_type": "code",
   "execution_count": null,
   "metadata": {},
   "outputs": [],
   "source": [
    "batch_size = 25\n",
    "img_batch = sample_random_batch(batch_size)\n",
    "\n",
    "show_images_grid(img_batch)"
   ]
  },
  {
   "cell_type": "code",
   "execution_count": null,
   "metadata": {},
   "outputs": [],
   "source": [
    "batch_size = 25\n",
    "fixed_factor_str = 'floor_hue' #@param ['floor_hue', 'wall_hue', 'object_hue', 'scale', 'shape', 'orientation']\n",
    "fixed_factor_value = 0  # first value of floor hue - red\n",
    "fixed_factor = _FACTORS_IN_ORDER.index(fixed_factor_str)  # floor hue\n",
    "img_batch = sample_batch(batch_size, fixed_factor, fixed_factor_value)\n",
    "\n",
    "show_images_grid(img_batch)"
   ]
  },
  {
   "cell_type": "code",
   "execution_count": null,
   "metadata": {},
   "outputs": [],
   "source": [
    "# Given an index, returns a dictionary of value (in interval unit) for each factor\n",
    "def get_factor(index):\n",
    "    FACTORS_IN_ORDER = ['floor_hue', 'wall_hue', 'object_hue', 'scale', 'shape',\n",
    "                        'orientation']\n",
    "    _NUM_VALUES_PER_FACTOR = {'floor_hue': 10, 'wall_hue': 10, 'object_hue': 10,\n",
    "                              'scale': 8, 'shape': 4, 'orientation': 15}\n",
    "    factors = {}\n",
    "    for facotr, name in list(enumerate(FACTORS_IN_ORDER)):\n",
    "        start = _NUM_VALUES_PER_FACTOR[name]\n",
    "        _NUM_VALUES_PER_FACTOR.pop(name)\n",
    "        while True:\n",
    "            mult = np.prod(np.array(list(_NUM_VALUES_PER_FACTOR.values())))\n",
    "            if start * mult <= index:\n",
    "                break\n",
    "            else:\n",
    "                start -= 1\n",
    "        factors[name] = start\n",
    "        index -= start * mult\n",
    "    return factors"
   ]
  }
 ],
 "metadata": {
  "kernelspec": {
   "display_name": "Python 3 (ipykernel)",
   "language": "python",
   "name": "python3"
  },
  "language_info": {
   "codemirror_mode": {
    "name": "ipython",
    "version": 3
   },
   "file_extension": ".py",
   "mimetype": "text/x-python",
   "name": "python",
   "nbconvert_exporter": "python",
   "pygments_lexer": "ipython3",
   "version": "3.7.6"
  }
 },
 "nbformat": 4,
 "nbformat_minor": 4
}
