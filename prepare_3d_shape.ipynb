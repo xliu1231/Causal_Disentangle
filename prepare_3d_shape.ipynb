{
 "cells": [
  {
   "cell_type": "markdown",
   "id": "6d739a34-1e4d-4d2f-b18c-e7c99aa6598c",
   "metadata": {},
   "source": [
    "## Prepare data for synthetic 3dshape dataset"
   ]
  },
  {
   "cell_type": "code",
   "execution_count": 1,
   "id": "8df6b94a-b965-41b8-894b-8140f9c3e1f1",
   "metadata": {},
   "outputs": [],
   "source": [
    "from tqdm import tqdm\n",
    "import time\n",
    "import argparse\n",
    "import os\n",
    "import sys\n",
    "from abc import abstractmethod\n",
    "from torch.nn import functional as F"
   ]
  },
  {
   "cell_type": "code",
   "execution_count": 2,
   "id": "693e15b8-c15e-433f-9301-d58d63828a24",
   "metadata": {},
   "outputs": [],
   "source": [
    "import pandas as pd\n",
    "import numpy as np\n",
    "import einops"
   ]
  },
  {
   "cell_type": "code",
   "execution_count": 3,
   "id": "9b9ddb1c-8843-40c9-ab19-a80f061beeb4",
   "metadata": {},
   "outputs": [],
   "source": [
    "import torch\n",
    "from torch import nn\n",
    "import torch.nn.init as init\n",
    "from torchvision import datasets\n",
    "from torchvision import transforms as T\n",
    "from torchvision.datasets import ImageFolder\n",
    "from torch.utils.data import Dataset, DataLoader"
   ]
  },
  {
   "cell_type": "code",
   "execution_count": 4,
   "id": "55664c9f-f5c1-4df9-8c1a-ee4cd34f9181",
   "metadata": {},
   "outputs": [],
   "source": [
    "sys.path.insert(0,\"/nfshomes/xliu1231/Causal_Disentangle/3dshape_dataset\")"
   ]
  },
  {
   "cell_type": "code",
   "execution_count": 5,
   "id": "bba23f4c-0017-4e7e-84a5-952fbd84b591",
   "metadata": {},
   "outputs": [],
   "source": [
    "from datasets import ShapeDataset"
   ]
  },
  {
   "cell_type": "code",
   "execution_count": 6,
   "id": "aaa13ee2-c04c-44c5-a647-2541eefe17ea",
   "metadata": {},
   "outputs": [],
   "source": [
    "from dataset_3d_shape import sample_3dshape_dataset"
   ]
  },
  {
   "cell_type": "code",
   "execution_count": 7,
   "id": "f18d42b5-5ca2-4b0f-a43d-0b9e97e4e092",
   "metadata": {},
   "outputs": [],
   "source": [
    "from vae import VAE"
   ]
  },
  {
   "cell_type": "code",
   "execution_count": null,
   "id": "af03f7ad-8fcf-4e06-abbe-06f1ca1479e6",
   "metadata": {},
   "outputs": [],
   "source": []
  },
  {
   "cell_type": "markdown",
   "id": "fa11ba55-7876-4b2c-94b1-3064ebec9152",
   "metadata": {},
   "source": [
    "### Prepare dataset"
   ]
  },
  {
   "cell_type": "markdown",
   "id": "115b9c03-16b6-4fb0-8975-085eb9ee1580",
   "metadata": {},
   "source": [
    "_FACTORS_IN_ORDER = ['floor_hue', 'wall_hue', 'object_hue', 'scale', 'shape', 'orientation']\n",
    "\n",
    "\n",
    "_NUM_VALUES_PER_FACTOR = {'floor_hue': 10, 'wall_hue': 10, 'object_hue': 10, 'scale': 8, 'shape': 4, 'orientation': 15}\n"
   ]
  },
  {
   "cell_type": "code",
   "execution_count": 8,
   "id": "cfd666cf-df8a-4e37-a609-a1264b67b20c",
   "metadata": {},
   "outputs": [],
   "source": [
    "#Set distributions of factors' values. If not specified, we will sample factors randomly\n",
    "\n",
    "dist={'shape': [1, 0, 0, 0],\n",
    "      'object_hue': [0, 1, 0, 0, 0, 0, 0, 0, 0, 0]\n",
    "     }"
   ]
  },
  {
   "cell_type": "code",
   "execution_count": null,
   "id": "0c15354e-3d88-45a6-b11d-196f132c9c0c",
   "metadata": {},
   "outputs": [],
   "source": [
    "#sample a dataset and save\n",
    "\n",
    "sample_3dshape_dataset(dist, data_size=1000, \n",
    "                       data_path='/nfshomes/xliu1231/Causal_Disentangle/data',\n",
    "                       label_path='/nfshomes/xliu1231/Causal_Disentangle/data/sample_source.csv',\n",
    "                       new_label=[\"SO12\", 1]\n",
    "                      )"
   ]
  },
  {
   "cell_type": "code",
   "execution_count": null,
   "id": "b3adb128-9d0e-4f43-bfb8-ea390d3cc38f",
   "metadata": {},
   "outputs": [],
   "source": [
    "dist={'shape': [1, 0, 0, 0],\n",
    "      'object_hue': [0, 1, 0, 0, 0, 0, 0, 0, 0, 0]\n",
    "     }\n",
    "\n",
    "sample_3dshape_dataset(dist, data_size=1000, \n",
    "                       data_path='/nfshomes/xliu1231/Causal_Disentangle/data',\n",
    "                       label_path='/nfshomes/xliu1231/Causal_Disentangle/data/sample_source.csv',\n",
    "                       new_label=[\"SO12\", 1]\n",
    "                      )"
   ]
  },
  {
   "cell_type": "code",
   "execution_count": null,
   "id": "33de53fa-60a2-4c39-8f06-14a6b4bd7008",
   "metadata": {},
   "outputs": [],
   "source": [
    "dist={'shape': [1, 0, 0, 0],\n",
    "      'object_hue': [0, 1, 0, 0, 0, 0, 0, 0, 0, 0]\n",
    "     }\n",
    "\n",
    "sample_3dshape_dataset(dist, data_size=1000, \n",
    "                       data_path='/nfshomes/xliu1231/Causal_Disentangle/data',\n",
    "                       label_path='/nfshomes/xliu1231/Causal_Disentangle/data/sample_source.csv',\n",
    "                       new_label=[\"SO12\", 1]\n",
    "                      )"
   ]
  },
  {
   "cell_type": "code",
   "execution_count": null,
   "id": "9a3a41db-eb33-426b-85e4-8823b73a99e7",
   "metadata": {},
   "outputs": [],
   "source": [
    "transform = T.ToTensor()"
   ]
  },
  {
   "cell_type": "code",
   "execution_count": null,
   "id": "2c88c9f6-a779-495d-87b9-e99401291920",
   "metadata": {},
   "outputs": [],
   "source": []
  },
  {
   "cell_type": "code",
   "execution_count": null,
   "id": "cc5992f4-c366-49fb-9522-6c7f2e269f0d",
   "metadata": {},
   "outputs": [],
   "source": []
  },
  {
   "cell_type": "code",
   "execution_count": null,
   "id": "9825dcc2-fee9-4d7b-b0ac-073d717d4887",
   "metadata": {},
   "outputs": [],
   "source": [
    "# _FACTORS_IN_ORDER = ['floor_hue', 'wall_hue', 'object_hue', 'scale', 'shape', 'orientation']\n",
    "# concept_interest is the indices of the interested factors that will be labels\n",
    "\n",
    "train_dataset = ShapeDataset( data_path='/nfshomes/xliu1231/Causal_Disentangle/data', \n",
    "                              attr_path='/nfshomes/xliu1231/Causal_Disentangle/data/sample_target.csv',\n",
    "                              attr=['floor_hue', 'shape'],\n",
    "                              transform=transform\n",
    "                             )"
   ]
  },
  {
   "cell_type": "code",
   "execution_count": null,
   "id": "7a512571-d294-43a5-9bc6-534a7d153f5f",
   "metadata": {},
   "outputs": [],
   "source": []
  },
  {
   "cell_type": "code",
   "execution_count": null,
   "id": "31be183d-4d1d-42a1-867b-24f0a5f9eccc",
   "metadata": {},
   "outputs": [],
   "source": []
  },
  {
   "cell_type": "code",
   "execution_count": null,
   "id": "36f3b2a6-84e1-4274-9489-526d8330b65f",
   "metadata": {},
   "outputs": [],
   "source": [
    "train_loader = torch.utils.data.DataLoader(\n",
    "                        train_dataset, \n",
    "                        batch_size=4, \n",
    "                        shuffle=True, \n",
    "                        pin_memory=True,\n",
    "                        num_workers=1)"
   ]
  },
  {
   "cell_type": "code",
   "execution_count": null,
   "id": "05a6b768-f50e-497b-b66e-f56b093c51a2",
   "metadata": {},
   "outputs": [],
   "source": [
    "prefetcher = data_prefetcher(train_loader)"
   ]
  },
  {
   "cell_type": "code",
   "execution_count": null,
   "id": "d351bdfe-ae32-412f-88df-491254563acb",
   "metadata": {},
   "outputs": [],
   "source": []
  },
  {
   "cell_type": "code",
   "execution_count": null,
   "id": "93efa07d-9a4e-460d-a305-5e6a17ac43bd",
   "metadata": {},
   "outputs": [],
   "source": []
  },
  {
   "cell_type": "code",
   "execution_count": null,
   "id": "ced91631-a561-4695-8df3-46f5148110f3",
   "metadata": {},
   "outputs": [],
   "source": [
    "i = 0\n",
    "for epoch in range(1, 30):\n",
    "    \n",
    "    #model.train()\n",
    "    \n",
    "    i += 1\n",
    "    \n",
    "    for input, y in train_loader:\n",
    "        input = input.cuda()\n",
    "        print(y)\n",
    "        continue\n",
    "        output = model(input)\n",
    "        recons_loss = F.mse_loss(output[0], input)\n",
    "        mu = output[1]\n",
    "        log_var = output[2]\n",
    "        kld_loss = torch.mean(-0.5 * torch.sum(1 + log_var - mu ** 2 - log_var.exp(), dim = 1), dim = 0)\n",
    "        kld_weight = input.shape[0] / ( 64 * len(train_loader) )\n",
    "        loss = recons_loss + kld_loss * kld_weight\n",
    "        \n",
    "        optimizer.zero_grad()\n",
    "        loss.backward()\n",
    "        optimizer.step()\n",
    "    break\n",
    "        \n",
    "        \n",
    "\n",
    "        "
   ]
  },
  {
   "cell_type": "code",
   "execution_count": null,
   "id": "30706f95-fcbe-415c-9d9e-54ada09400bb",
   "metadata": {},
   "outputs": [],
   "source": []
  },
  {
   "cell_type": "markdown",
   "id": "94ee7e30-e7b6-472e-8a1a-f871538e3bac",
   "metadata": {},
   "source": [
    "---"
   ]
  },
  {
   "cell_type": "code",
   "execution_count": null,
   "id": "7e53084a-666a-4f8a-b73c-92228cc189ad",
   "metadata": {},
   "outputs": [],
   "source": []
  },
  {
   "cell_type": "code",
   "execution_count": null,
   "id": "fa8a0e9d-66ba-4d71-8c09-b0cf81d0d6d1",
   "metadata": {},
   "outputs": [],
   "source": []
  },
  {
   "cell_type": "code",
   "execution_count": null,
   "id": "ce62d90e-2366-4a35-9a2f-89c27691dc99",
   "metadata": {},
   "outputs": [],
   "source": []
  },
  {
   "cell_type": "code",
   "execution_count": null,
   "id": "c07942b8-850d-4164-9476-5ba368480cc6",
   "metadata": {},
   "outputs": [],
   "source": []
  },
  {
   "cell_type": "code",
   "execution_count": null,
   "id": "69eea686-161d-45a6-bd01-eb21dffda385",
   "metadata": {},
   "outputs": [],
   "source": []
  }
 ],
 "metadata": {
  "kernelspec": {
   "display_name": "Python [conda env:root] *",
   "language": "python",
   "name": "conda-root-py"
  },
  "language_info": {
   "codemirror_mode": {
    "name": "ipython",
    "version": 3
   },
   "file_extension": ".py",
   "mimetype": "text/x-python",
   "name": "python",
   "nbconvert_exporter": "python",
   "pygments_lexer": "ipython3",
   "version": "3.7.6"
  }
 },
 "nbformat": 4,
 "nbformat_minor": 5
}
